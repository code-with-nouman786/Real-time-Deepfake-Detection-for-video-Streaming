{
 "cells": [
  {
   "cell_type": "code",
   "execution_count": null,
   "metadata": {
    "_cell_guid": "b1076dfc-b9ad-4769-8c92-a6c4dae69d19",
    "_uuid": "8f2839f25d086af736a60e9eeb907d3b93b6e0e5",
    "execution": {
     "iopub.execute_input": "2025-04-07T19:13:52.243232Z",
     "iopub.status.busy": "2025-04-07T19:13:52.242878Z",
     "iopub.status.idle": "2025-04-07T19:13:57.460784Z",
     "shell.execute_reply": "2025-04-07T19:13:57.459964Z",
     "shell.execute_reply.started": "2025-04-07T19:13:52.243206Z"
    },
    "trusted": true
   },
   "outputs": [],
   "source": [
    "\n",
    "\n",
    "import numpy as np \n",
    "import pandas as pd \n",
    "\n",
    "import os\n",
    "for dirname, _, filenames in os.walk('/kaggle/input'):\n",
    "    for filename in filenames:\n",
    "        print(os.path.join(dirname, filename))\n"
   ]
  },
  {
   "cell_type": "code",
   "execution_count": null,
   "metadata": {
    "execution": {
     "iopub.execute_input": "2025-04-07T19:13:57.462487Z",
     "iopub.status.busy": "2025-04-07T19:13:57.462080Z",
     "iopub.status.idle": "2025-04-07T19:14:04.359764Z",
     "shell.execute_reply": "2025-04-07T19:14:04.358803Z",
     "shell.execute_reply.started": "2025-04-07T19:13:57.462464Z"
    },
    "trusted": true
   },
   "outputs": [],
   "source": [
    "pip install timm"
   ]
  },
  {
   "cell_type": "code",
   "execution_count": 3,
   "metadata": {
    "execution": {
     "iopub.execute_input": "2025-04-07T19:14:04.361731Z",
     "iopub.status.busy": "2025-04-07T19:14:04.361492Z",
     "iopub.status.idle": "2025-04-07T19:14:16.717811Z",
     "shell.execute_reply": "2025-04-07T19:14:16.716956Z",
     "shell.execute_reply.started": "2025-04-07T19:14:04.361711Z"
    },
    "trusted": true
   },
   "outputs": [],
   "source": [
    "import os\n",
    "import cv2\n",
    "import torch\n",
    "import torch.nn as nn\n",
    "import torch.optim as optim\n",
    "from torch.utils.data import DataLoader, random_split\n",
    "from torchvision import datasets, transforms\n",
    "import timm\n",
    "from PIL import Image\n"
   ]
  },
  {
   "cell_type": "code",
   "execution_count": 4,
   "metadata": {
    "execution": {
     "iopub.execute_input": "2025-04-07T19:14:16.719448Z",
     "iopub.status.busy": "2025-04-07T19:14:16.719208Z",
     "iopub.status.idle": "2025-04-07T19:14:16.722949Z",
     "shell.execute_reply": "2025-04-07T19:14:16.722164Z",
     "shell.execute_reply.started": "2025-04-07T19:14:16.719430Z"
    },
    "trusted": true
   },
   "outputs": [],
   "source": [
    "# Directories for real and manipulated videos\n",
    "real_videos_dir = \"/kaggle/input/deep-fake-detection-dfd-entire-original-dataset/DFD_original sequences\"\n",
    "manipulated_videos_dir = \"/kaggle/input/deep-fake-detection-dfd-entire-original-dataset/DFD_manipulated_sequences/DFD_manipulated_sequences\"\n",
    "\n",
    "# Output directories for extracted frames\n",
    "output_real_dir = \"/kaggle/working/frames/real\"\n",
    "output_manipulated_dir = \"/kaggle/working/frames/fake\"\n"
   ]
  },
  {
   "cell_type": "code",
   "execution_count": 5,
   "metadata": {
    "execution": {
     "iopub.execute_input": "2025-04-07T19:14:16.724243Z",
     "iopub.status.busy": "2025-04-07T19:14:16.723936Z",
     "iopub.status.idle": "2025-04-07T19:14:16.749511Z",
     "shell.execute_reply": "2025-04-07T19:14:16.748640Z",
     "shell.execute_reply.started": "2025-04-07T19:14:16.724212Z"
    },
    "trusted": true
   },
   "outputs": [],
   "source": [
    "# Ensure output directories exist\n",
    "os.makedirs(output_real_dir, exist_ok=True)\n",
    "os.makedirs(output_manipulated_dir, exist_ok=True)"
   ]
  },
  {
   "cell_type": "code",
   "execution_count": 6,
   "metadata": {
    "execution": {
     "iopub.execute_input": "2025-04-07T19:14:16.750632Z",
     "iopub.status.busy": "2025-04-07T19:14:16.750415Z",
     "iopub.status.idle": "2025-04-07T19:14:16.766017Z",
     "shell.execute_reply": "2025-04-07T19:14:16.765398Z",
     "shell.execute_reply.started": "2025-04-07T19:14:16.750602Z"
    },
    "trusted": true
   },
   "outputs": [],
   "source": [
    "def extract_frames_from_videos(videos_dir, output_dir, label, max_videos=50):\n",
    "    video_files = [f for f in os.listdir(videos_dir) if f.endswith(('.mp4', '.avi', '.mov', '.mkv'))]\n",
    "    video_files = video_files[:max_videos]  # Limit to max_videos\n",
    "\n",
    "    for video_file in video_files:\n",
    "        video_path = os.path.join(videos_dir, video_file)\n",
    "        cap = cv2.VideoCapture(video_path)\n",
    "        frame_count = 0\n",
    "        success, image = cap.read()\n",
    "\n",
    "        while success:\n",
    "            if frame_count % int(cap.get(cv2.CAP_PROP_FPS)) == 0:\n",
    "                frame_filename = f\"{label}_{video_file}_frame{frame_count // int(cap.get(cv2.CAP_PROP_FPS))}.jpg\"\n",
    "                frame_path = os.path.join(output_dir, frame_filename)\n",
    "                cv2.imwrite(frame_path, image)\n",
    "            success, image = cap.read()\n",
    "            frame_count += 1\n",
    "\n",
    "        cap.release()"
   ]
  },
  {
   "cell_type": "code",
   "execution_count": null,
   "metadata": {
    "execution": {
     "iopub.execute_input": "2025-04-07T19:14:16.767191Z",
     "iopub.status.busy": "2025-04-07T19:14:16.766877Z",
     "iopub.status.idle": "2025-04-07T19:25:07.512633Z",
     "shell.execute_reply": "2025-04-07T19:25:07.511683Z",
     "shell.execute_reply.started": "2025-04-07T19:14:16.767157Z"
    },
    "trusted": true
   },
   "outputs": [],
   "source": [
    "# Extract frames from 100 real and 100 fake videos\n",
    "extract_frames_from_videos(real_videos_dir, output_real_dir, \"real\", max_videos=100)\n",
    "extract_frames_from_videos(manipulated_videos_dir, output_manipulated_dir, \"fake\", max_videos=100)\n",
    "print(\"Frame extraction completed.\")\n"
   ]
  },
  {
   "cell_type": "code",
   "execution_count": 8,
   "metadata": {
    "execution": {
     "iopub.execute_input": "2025-04-07T19:25:07.515297Z",
     "iopub.status.busy": "2025-04-07T19:25:07.515060Z",
     "iopub.status.idle": "2025-04-07T19:25:07.600451Z",
     "shell.execute_reply": "2025-04-07T19:25:07.599501Z",
     "shell.execute_reply.started": "2025-04-07T19:25:07.515277Z"
    },
    "trusted": true
   },
   "outputs": [],
   "source": [
    "# Device configuration\n",
    "device = torch.device(\"cuda\" if torch.cuda.is_available() else \"cpu\")\n",
    "\n",
    "# Define image transformations with advanced augmentations\n",
    "transform = transforms.Compose([\n",
    "    transforms.Resize((224, 224)),\n",
    "    transforms.ToTensor(),\n",
    "    transforms.Normalize(mean=[0.485, 0.456, 0.406], std=[0.229, 0.224, 0.225])\n",
    "])"
   ]
  },
  {
   "cell_type": "code",
   "execution_count": 9,
   "metadata": {
    "execution": {
     "iopub.execute_input": "2025-04-07T19:25:07.601955Z",
     "iopub.status.busy": "2025-04-07T19:25:07.601670Z",
     "iopub.status.idle": "2025-04-07T19:25:07.784119Z",
     "shell.execute_reply": "2025-04-07T19:25:07.783274Z",
     "shell.execute_reply.started": "2025-04-07T19:25:07.601925Z"
    },
    "trusted": true
   },
   "outputs": [],
   "source": [
    "# Load the dataset\n",
    "dataset_dir = \"/kaggle/working/frames\"  # Directory where frames are saved\n",
    "dataset = datasets.ImageFolder(root=dataset_dir, transform=transform)\n",
    "\n",
    "# Split dataset into training and validation sets\n",
    "train_size = int(0.8 * len(dataset))\n",
    "val_size = len(dataset) - train_size\n",
    "train_dataset, val_dataset = random_split(dataset, [train_size, val_size])\n",
    "\n",
    "# Create DataLoaders\n",
    "train_loader = DataLoader(train_dataset, batch_size=32, shuffle=True, num_workers=4)\n",
    "val_loader = DataLoader(val_dataset, batch_size=32, shuffle=False, num_workers=4)\n"
   ]
  },
  {
   "cell_type": "code",
   "execution_count": null,
   "metadata": {
    "execution": {
     "iopub.execute_input": "2025-04-07T19:25:07.785219Z",
     "iopub.status.busy": "2025-04-07T19:25:07.784949Z",
     "iopub.status.idle": "2025-04-07T19:45:22.767976Z",
     "shell.execute_reply": "2025-04-07T19:45:22.767003Z",
     "shell.execute_reply.started": "2025-04-07T19:25:07.785198Z"
    },
    "trusted": true
   },
   "outputs": [],
   "source": [
    "# Load Vision Transformer (mobilenetv3) model\n",
    "model = timm.create_model('mobilenetv3_small_100', pretrained=True, num_classes=2)\n",
    "model.to(device)\n",
    "\n",
    "# Define loss function and optimizer\n",
    "criterion = nn.CrossEntropyLoss()\n",
    "optimizer = optim.AdamW(model.parameters(), lr=1e-5, weight_decay=1e-4)\n",
    "scheduler = torch.optim.lr_scheduler.StepLR(optimizer, step_size=5, gamma=0.7)\n",
    "\n",
    "# Training loop with early stopping\n",
    "num_epochs = 20\n",
    "best_val_accuracy = 0\n",
    "patience = 5\n",
    "patience_counter = 0\n",
    "\n",
    "for epoch in range(num_epochs):\n",
    "    model.train()\n",
    "    running_loss = 0.0\n",
    "    correct_train = 0\n",
    "    total_train = 0\n",
    "    for images, labels in train_loader:\n",
    "        images, labels = images.to(device), labels.to(device)\n",
    "        optimizer.zero_grad()\n",
    "        outputs = model(images)\n",
    "        loss = criterion(outputs, labels)\n",
    "        loss.backward()\n",
    "        optimizer.step()\n",
    "\n",
    "        running_loss += loss.item()\n",
    "        _, predicted = torch.max(outputs, 1)\n",
    "        total_train += labels.size(0)\n",
    "        correct_train += (predicted == labels).sum().item()\n",
    "\n",
    "    train_accuracy = 100 * correct_train / total_train\n",
    "    print(f\"Epoch [{epoch+1}/{num_epochs}], Loss: {running_loss/len(train_loader):.4f}, Training Accuracy: {train_accuracy:.2f}%\")\n",
    "\n",
    "    # Validation\n",
    "    model.eval()\n",
    "    correct_val = 0\n",
    "    total_val = 0\n",
    "    with torch.no_grad():\n",
    "        for images, labels in val_loader:\n",
    "            images, labels = images.to(device), labels.to(device)\n",
    "            outputs = model(images)\n",
    "            _, predicted = torch.max(outputs, 1)\n",
    "            total_val += labels.size(0)\n",
    "            correct_val += (predicted == labels).sum().item()\n",
    "\n",
    "    val_accuracy = 100 * correct_val / total_val\n",
    "    print(f\"Validation Accuracy: {val_accuracy:.2f}%\")\n",
    "\n",
    "    # Save best model with early stopping\n",
    "    if val_accuracy > best_val_accuracy:\n",
    "        best_val_accuracy = val_accuracy\n",
    "        torch.save(model.state_dict(), 'mobilenet_model.pth')\n",
    "        patience_counter = 0\n",
    "    else:\n",
    "        patience_counter += 1\n",
    "        if patience_counter >= patience:\n",
    "            print(\"Early stopping due to no improvement.\")\n",
    "            break\n",
    "    scheduler.step()\n",
    "\n",
    "print(f\"Best Validation Accuracy: {best_val_accuracy:.2f}%\")"
   ]
  },
  {
   "cell_type": "code",
   "execution_count": null,
   "metadata": {
    "execution": {
     "iopub.execute_input": "2025-04-07T19:45:22.769601Z",
     "iopub.status.busy": "2025-04-07T19:45:22.769223Z",
     "iopub.status.idle": "2025-04-07T19:45:36.781534Z",
     "shell.execute_reply": "2025-04-07T19:45:36.780525Z",
     "shell.execute_reply.started": "2025-04-07T19:45:22.769567Z"
    },
    "trusted": true
   },
   "outputs": [],
   "source": [
    "from sklearn.metrics import classification_report, accuracy_score\n",
    "\n",
    "# Load the best model\n",
    "model.load_state_dict(torch.load('mobilenet_model.pth', weights_only=True))\n",
    "model.eval()\n",
    "\n",
    "all_labels = []\n",
    "all_predictions = []\n",
    "\n",
    "with torch.no_grad():\n",
    "    for images, labels in val_loader:\n",
    "        images, labels = images.to(device), labels.to(device)\n",
    "        outputs = model(images)\n",
    "        _, predicted = torch.max(outputs, 1)\n",
    "\n",
    "        all_labels.extend(labels.cpu().numpy())\n",
    "        all_predictions.extend(predicted.cpu().numpy())\n",
    "\n",
    "# Calculate classification metrics\n",
    "print(\"Classification Report:\")\n",
    "print(classification_report(all_labels, all_predictions, target_names=['Real', 'Manipulated']))\n",
    "\n",
    "# Optionally print accuracy separately\n",
    "accuracy = accuracy_score(all_labels, all_predictions)\n",
    "print(f\"Accuracy: {accuracy * 100:.2f}%\")\n"
   ]
  },
  {
   "cell_type": "code",
   "execution_count": null,
   "metadata": {
    "execution": {
     "iopub.execute_input": "2025-04-07T19:45:36.783478Z",
     "iopub.status.busy": "2025-04-07T19:45:36.782661Z",
     "iopub.status.idle": "2025-04-07T19:45:37.421260Z",
     "shell.execute_reply": "2025-04-07T19:45:37.420374Z",
     "shell.execute_reply.started": "2025-04-07T19:45:36.783452Z"
    },
    "trusted": true
   },
   "outputs": [],
   "source": [
    "from sklearn.metrics import confusion_matrix\n",
    "import seaborn as sns\n",
    "import matplotlib.pyplot as plt\n",
    "\n",
    "# Confusion matrix\n",
    "cm = confusion_matrix(all_labels, all_predictions)\n",
    "\n",
    "# Plot confusion matrix\n",
    "plt.figure(figsize=(8, 6))\n",
    "sns.heatmap(cm, annot=True, fmt='d', cmap='Blues', xticklabels=['Real', 'Manipulated'], yticklabels=['Real', 'Manipulated'])\n",
    "plt.xlabel('Predicted Labels')\n",
    "plt.ylabel('True Labels')\n",
    "plt.title('Confusion Matrix')\n",
    "plt.show()\n"
   ]
  },
  {
   "cell_type": "code",
   "execution_count": null,
   "metadata": {
    "execution": {
     "iopub.execute_input": "2025-04-07T19:45:37.422724Z",
     "iopub.status.busy": "2025-04-07T19:45:37.422200Z",
     "iopub.status.idle": "2025-04-07T19:45:57.938375Z",
     "shell.execute_reply": "2025-04-07T19:45:57.937485Z",
     "shell.execute_reply.started": "2025-04-07T19:45:37.422690Z"
    },
    "trusted": true
   },
   "outputs": [],
   "source": [
    "import torch\n",
    "import torch.nn as nn\n",
    "from torchvision import transforms\n",
    "from PIL import Image\n",
    "import cv2\n",
    "import timm\n",
    "\n",
    "# Device configuration\n",
    "device = torch.device(\"cuda\" if torch.cuda.is_available() else \"cpu\")\n",
    "\n",
    "# Define image transformations (same as used during training)\n",
    "transform = transforms.Compose([\n",
    "    transforms.Resize((224, 224)),\n",
    "    transforms.ToTensor(),\n",
    "    transforms.Normalize(mean=[0.485, 0.456, 0.406], std=[0.229, 0.224, 0.225])\n",
    "])\n",
    "\n",
    "# Load the trained model\n",
    "model = timm.create_model('mobilenetv3_small_100', pretrained=False, num_classes=2)\n",
    "# Load the trained model with weights_only=True for security\n",
    "model.load_state_dict(torch.load('mobilenet_model.pth', weights_only=True))\n",
    "model.to(device)\n",
    "model.eval()\n",
    "\n",
    "# Function to process the video and classify each frame\n",
    "def predict_video(video_path, model, transform, device):\n",
    "    cap = cv2.VideoCapture(video_path)\n",
    "    frame_count = 0\n",
    "    real_count = 0\n",
    "    manipulated_count = 0\n",
    "\n",
    "    while cap.isOpened():\n",
    "        ret, frame = cap.read()\n",
    "        if not ret:\n",
    "            break\n",
    "        \n",
    "        frame_count += 1\n",
    "\n",
    "        # Convert frame to PIL Image and apply transformations\n",
    "        image = Image.fromarray(cv2.cvtColor(frame, cv2.COLOR_BGR2RGB))\n",
    "        image = transform(image).unsqueeze(0).to(device)  # Add batch dimension\n",
    "\n",
    "        # Make prediction\n",
    "        with torch.no_grad():\n",
    "            outputs = model(image)\n",
    "            _, predicted = torch.max(outputs, 1)\n",
    "        \n",
    "        if predicted.item() == 0:\n",
    "            real_count += 1\n",
    "        else:\n",
    "            manipulated_count += 1\n",
    "\n",
    "    cap.release()\n",
    "\n",
    "    # Final decision based on majority vote across all frames\n",
    "    if real_count > manipulated_count:\n",
    "        print(f\"Result: Real video ({real_count} real frames, {manipulated_count} manipulated frames)\")\n",
    "        return \"Real\"\n",
    "    else:\n",
    "        print(f\"Result: Manipulated video ({real_count} real frames, {manipulated_count} manipulated frames)\")\n",
    "        return \"fake\"\n",
    "\n",
    "# Test the video\n",
    "video_path = \"/kaggle/input/deep-fake-detection-dfd-entire-original-dataset/DFD_original sequences/02__kitchen_still.mp4\"\n",
    "result = predict_video(video_path, model, transform, device)\n"
   ]
  },
  {
   "cell_type": "code",
   "execution_count": null,
   "metadata": {
    "execution": {
     "iopub.execute_input": "2025-04-07T19:45:57.939634Z",
     "iopub.status.busy": "2025-04-07T19:45:57.939304Z",
     "iopub.status.idle": "2025-04-07T19:45:58.866595Z",
     "shell.execute_reply": "2025-04-07T19:45:58.865455Z",
     "shell.execute_reply.started": "2025-04-07T19:45:57.939601Z"
    },
    "trusted": true
   },
   "outputs": [],
   "source": [
    "!gdown https://drive.google.com/......................\n"
   ]
  },
  {
   "cell_type": "code",
   "execution_count": null,
   "metadata": {
    "execution": {
     "iopub.execute_input": "2025-04-07T19:45:58.867956Z",
     "iopub.status.busy": "2025-04-07T19:45:58.867704Z",
     "iopub.status.idle": "2025-04-07T19:46:18.968667Z",
     "shell.execute_reply": "2025-04-07T19:46:18.967809Z",
     "shell.execute_reply.started": "2025-04-07T19:45:58.867937Z"
    },
    "trusted": true
   },
   "outputs": [],
   "source": [
    "import torch\n",
    "import torch.nn as nn\n",
    "from torchvision import transforms\n",
    "from PIL import Image\n",
    "import cv2\n",
    "import timm\n",
    "\n",
    "# Device configuration\n",
    "device = torch.device(\"cuda\" if torch.cuda.is_available() else \"cpu\")\n",
    "\n",
    "# Define image transformations (same as used during training)\n",
    "transform = transforms.Compose([\n",
    "    transforms.Resize((224, 224)),\n",
    "    transforms.ToTensor(),\n",
    "    transforms.Normalize(mean=[0.485, 0.456, 0.406], std=[0.229, 0.224, 0.225])\n",
    "])\n",
    "\n",
    "# Load the trained model\n",
    "model = timm.create_model('mobilenetv3_small_100', pretrained=False, num_classes=2)\n",
    "# Load the trained model with weights_only=True for security\n",
    "model.load_state_dict(torch.load('mobilenet_model.pth', weights_only=True))\n",
    "model.to(device)\n",
    "model.eval()\n",
    "\n",
    "# Function to process the video and classify each frame\n",
    "def predict_video(video_path, model, transform, device):\n",
    "    cap = cv2.VideoCapture(video_path)\n",
    "    frame_count = 0\n",
    "    real_count = 0\n",
    "    manipulated_count = 0\n",
    "\n",
    "    while cap.isOpened():\n",
    "        ret, frame = cap.read()\n",
    "        if not ret:\n",
    "            break\n",
    "        \n",
    "        frame_count += 1\n",
    "\n",
    "        # Convert frame to PIL Image and apply transformations\n",
    "        image = Image.fromarray(cv2.cvtColor(frame, cv2.COLOR_BGR2RGB))\n",
    "        image = transform(image).unsqueeze(0).to(device)  # Add batch dimension\n",
    "\n",
    "        # Make prediction\n",
    "        with torch.no_grad():\n",
    "            outputs = model(image)\n",
    "            _, predicted = torch.max(outputs, 1)\n",
    "        \n",
    "        if predicted.item() == 0:\n",
    "            real_count += 1\n",
    "        else:\n",
    "            manipulated_count += 1\n",
    "\n",
    "    cap.release()\n",
    "\n",
    "    # Final decision based on majority vote across all frames\n",
    "    if real_count > manipulated_count:\n",
    "        print(f\"Result: Real video ({real_count} real frames, {manipulated_count} manipulated frames)\")\n",
    "        return \"Real\"\n",
    "    else:\n",
    "        print(f\"Result: Manipulated video ({real_count} real frames, {manipulated_count} manipulated frames)\")\n",
    "        return \"fake\"\n",
    "\n",
    "# Test the video\n",
    "video_path = \"/kaggle/input/deep-fake-detection-dfd-entire-original-dataset/DFD_manipulated_sequences/DFD_manipulated_sequences/01_20__walking_and_outside_surprised__OTGHOG4Z.mp4\"\n",
    "result = predict_video(video_path, model, transform, device)\n"
   ]
  },
  {
   "cell_type": "code",
   "execution_count": null,
   "metadata": {
    "execution": {
     "iopub.execute_input": "2025-04-07T19:46:18.969795Z",
     "iopub.status.busy": "2025-04-07T19:46:18.969542Z",
     "iopub.status.idle": "2025-04-07T19:46:24.457488Z",
     "shell.execute_reply": "2025-04-07T19:46:24.456547Z",
     "shell.execute_reply.started": "2025-04-07T19:46:18.969774Z"
    },
    "trusted": true
   },
   "outputs": [],
   "source": [
    "import torch\n",
    "import torch.nn as nn\n",
    "from torchvision import transforms\n",
    "from PIL import Image\n",
    "import cv2\n",
    "import timm\n",
    "\n",
    "# Device configuration\n",
    "device = torch.device(\"cuda\" if torch.cuda.is_available() else \"cpu\")\n",
    "\n",
    "# Define image transformations (same as used during training)\n",
    "transform = transforms.Compose([\n",
    "    transforms.Resize((224, 224)),\n",
    "    transforms.ToTensor(),\n",
    "    transforms.Normalize(mean=[0.485, 0.456, 0.406], std=[0.229, 0.224, 0.225])\n",
    "])\n",
    "\n",
    "# Load the trained model\n",
    "model = timm.create_model('mobilenetv3_small_100', pretrained=False, num_classes=2)\n",
    "# Load the trained model with weights_only=True for security\n",
    "model.load_state_dict(torch.load('/kaggle/working/mobilenet_model.pth', weights_only=True))\n",
    "model.to(device)\n",
    "model.eval()\n",
    "\n",
    "# Function to process the video and classify each frame\n",
    "def predict_video(video_path, model, transform, device):\n",
    "    cap = cv2.VideoCapture(video_path)\n",
    "    frame_count = 0\n",
    "    real_count = 0\n",
    "    manipulated_count = 0\n",
    "\n",
    "    while cap.isOpened():\n",
    "        ret, frame = cap.read()\n",
    "        if not ret:\n",
    "            break\n",
    "        \n",
    "        frame_count += 1\n",
    "\n",
    "        # Convert frame to PIL Image and apply transformations\n",
    "        image = Image.fromarray(cv2.cvtColor(frame, cv2.COLOR_BGR2RGB))\n",
    "        image = transform(image).unsqueeze(0).to(device)  # Add batch dimension\n",
    "\n",
    "        # Make prediction\n",
    "        with torch.no_grad():\n",
    "            outputs = model(image)\n",
    "            _, predicted = torch.max(outputs, 1)\n",
    "        \n",
    "        if predicted.item() == 0:\n",
    "            real_count += 1\n",
    "        else:\n",
    "            manipulated_count += 1\n",
    "\n",
    "    cap.release()\n",
    "\n",
    "    # Final decision based on majority vote across all frames\n",
    "    if real_count > manipulated_count:\n",
    "        print(f\"Result: Real video ({real_count} real frames, {manipulated_count} manipulated frames)\")\n",
    "        return \"Real\"\n",
    "    else:\n",
    "        print(f\"Result: Manipulated video ({real_count} real frames, {manipulated_count} manipulated frames)\")\n",
    "        return \"fake\"\n",
    "\n",
    "# Test the video\n",
    "video_path = \"/kaggle/input/deepfake-testing-videos/model1.mp4\"\n",
    "result = predict_video(video_path, model, transform, device)\n"
   ]
  },
  {
   "cell_type": "code",
   "execution_count": null,
   "metadata": {
    "execution": {
     "iopub.execute_input": "2025-04-07T19:46:24.459048Z",
     "iopub.status.busy": "2025-04-07T19:46:24.458462Z",
     "iopub.status.idle": "2025-04-07T19:46:30.911933Z",
     "shell.execute_reply": "2025-04-07T19:46:30.911002Z",
     "shell.execute_reply.started": "2025-04-07T19:46:24.458993Z"
    },
    "trusted": true
   },
   "outputs": [],
   "source": [
    "import torch\n",
    "import torch.nn as nn\n",
    "from torchvision import transforms\n",
    "from PIL import Image\n",
    "import cv2\n",
    "import timm\n",
    "\n",
    "# Device configuration\n",
    "device = torch.device(\"cuda\" if torch.cuda.is_available() else \"cpu\")\n",
    "\n",
    "# Define image transformations (same as used during training)\n",
    "transform = transforms.Compose([\n",
    "    transforms.Resize((224, 224)),\n",
    "    transforms.ToTensor(),\n",
    "    transforms.Normalize(mean=[0.485, 0.456, 0.406], std=[0.229, 0.224, 0.225])\n",
    "])\n",
    "\n",
    "# Load the trained model\n",
    "model = timm.create_model('mobilenetv3_small_100', pretrained=False, num_classes=2)\n",
    "# Load the trained model with weights_only=True for security\n",
    "model.load_state_dict(torch.load('/kaggle/working/mobilenet_model.pth', weights_only=True))\n",
    "model.to(device)\n",
    "model.eval()\n",
    "\n",
    "# Function to process the video and classify each frame\n",
    "def predict_video(video_path, model, transform, device):\n",
    "    cap = cv2.VideoCapture(video_path)\n",
    "    frame_count = 0\n",
    "    real_count = 0\n",
    "    manipulated_count = 0\n",
    "\n",
    "    while cap.isOpened():\n",
    "        ret, frame = cap.read()\n",
    "        if not ret:\n",
    "            break\n",
    "        \n",
    "        frame_count += 1\n",
    "\n",
    "        # Convert frame to PIL Image and apply transformations\n",
    "        image = Image.fromarray(cv2.cvtColor(frame, cv2.COLOR_BGR2RGB))\n",
    "        image = transform(image).unsqueeze(0).to(device)  # Add batch dimension\n",
    "\n",
    "        # Make prediction\n",
    "        with torch.no_grad():\n",
    "            outputs = model(image)\n",
    "            _, predicted = torch.max(outputs, 1)\n",
    "        \n",
    "        if predicted.item() == 0:\n",
    "            real_count += 1\n",
    "        else:\n",
    "            manipulated_count += 1\n",
    "\n",
    "    cap.release()\n",
    "\n",
    "    # Final decision based on majority vote across all frames\n",
    "    if real_count > manipulated_count:\n",
    "        print(f\"Result: Real video ({real_count} real frames, {manipulated_count} manipulated frames)\")\n",
    "        return \"Real\"\n",
    "    else:\n",
    "        print(f\"Result: Manipulated video ({real_count} real frames, {manipulated_count} manipulated frames)\")\n",
    "        return \"fake\"\n",
    "\n",
    "# Test the video\n",
    "video_path = \"/kaggle/input/deepfake-testing-videos/modeloutput1.mp4\"\n",
    "result = predict_video(video_path, model, transform, device)\n"
   ]
  }
 ],
 "metadata": {
  "kaggle": {
   "accelerator": "nvidiaTeslaT4",
   "dataSources": [
    {
     "datasetId": 5524489,
     "sourceId": 9146200,
     "sourceType": "datasetVersion"
    },
    {
     "datasetId": 6134770,
     "sourceId": 9971597,
     "sourceType": "datasetVersion"
    }
   ],
   "dockerImageVersionId": 30823,
   "isGpuEnabled": true,
   "isInternetEnabled": true,
   "language": "python",
   "sourceType": "notebook"
  },
  "kernelspec": {
   "display_name": "Python 3",
   "language": "python",
   "name": "python3"
  },
  "language_info": {
   "codemirror_mode": {
    "name": "ipython",
    "version": 3
   },
   "file_extension": ".py",
   "mimetype": "text/x-python",
   "name": "python",
   "nbconvert_exporter": "python",
   "pygments_lexer": "ipython3",
   "version": "3.10.12"
  }
 },
 "nbformat": 4,
 "nbformat_minor": 4
}
